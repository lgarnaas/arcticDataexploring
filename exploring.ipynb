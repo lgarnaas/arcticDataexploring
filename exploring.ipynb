{
 "cells": [
  {
   "cell_type": "code",
   "execution_count": 10,
   "id": "89886d94-2485-4bc3-a11d-2bf5aa402123",
   "metadata": {},
   "outputs": [],
   "source": [
    "import matplotlib.pyplot as plt\n",
    "import numpy as np"
   ]
  },
  {
   "cell_type": "code",
   "execution_count": 11,
   "id": "3b69ff95-7077-42ea-b4ac-9c737177b25d",
   "metadata": {},
   "outputs": [],
   "source": [
    "import pandas as pd"
   ]
  },
  {
   "cell_type": "code",
   "execution_count": 12,
   "id": "a4b3012d-83d4-4568-9166-ae390c47e8d4",
   "metadata": {},
   "outputs": [
    {
     "data": {
      "text/html": [
       "<div>\n",
       "<style scoped>\n",
       "    .dataframe tbody tr th:only-of-type {\n",
       "        vertical-align: middle;\n",
       "    }\n",
       "\n",
       "    .dataframe tbody tr th {\n",
       "        vertical-align: top;\n",
       "    }\n",
       "\n",
       "    .dataframe thead th {\n",
       "        text-align: right;\n",
       "    }\n",
       "</style>\n",
       "<table border=\"1\" class=\"dataframe\">\n",
       "  <thead>\n",
       "    <tr style=\"text-align: right;\">\n",
       "      <th></th>\n",
       "      <th>doy</th>\n",
       "      <th>year</th>\n",
       "      <th>hour</th>\n",
       "      <th>Temp</th>\n",
       "      <th>sensorZ</th>\n",
       "      <th>sensorLoc</th>\n",
       "      <th>site</th>\n",
       "    </tr>\n",
       "  </thead>\n",
       "  <tbody>\n",
       "    <tr>\n",
       "      <th>0</th>\n",
       "      <td>181.0</td>\n",
       "      <td>2016.0</td>\n",
       "      <td>18.5</td>\n",
       "      <td>14.8</td>\n",
       "      <td>700</td>\n",
       "      <td>overstory</td>\n",
       "      <td>hd</td>\n",
       "    </tr>\n",
       "    <tr>\n",
       "      <th>1</th>\n",
       "      <td>181.0</td>\n",
       "      <td>2016.0</td>\n",
       "      <td>19.0</td>\n",
       "      <td>14.3</td>\n",
       "      <td>700</td>\n",
       "      <td>overstory</td>\n",
       "      <td>hd</td>\n",
       "    </tr>\n",
       "    <tr>\n",
       "      <th>2</th>\n",
       "      <td>181.0</td>\n",
       "      <td>2016.0</td>\n",
       "      <td>19.5</td>\n",
       "      <td>13.4</td>\n",
       "      <td>700</td>\n",
       "      <td>overstory</td>\n",
       "      <td>hd</td>\n",
       "    </tr>\n",
       "    <tr>\n",
       "      <th>3</th>\n",
       "      <td>181.0</td>\n",
       "      <td>2016.0</td>\n",
       "      <td>20.0</td>\n",
       "      <td>12.3</td>\n",
       "      <td>700</td>\n",
       "      <td>overstory</td>\n",
       "      <td>hd</td>\n",
       "    </tr>\n",
       "    <tr>\n",
       "      <th>4</th>\n",
       "      <td>181.0</td>\n",
       "      <td>2016.0</td>\n",
       "      <td>20.5</td>\n",
       "      <td>11.6</td>\n",
       "      <td>700</td>\n",
       "      <td>overstory</td>\n",
       "      <td>hd</td>\n",
       "    </tr>\n",
       "    <tr>\n",
       "      <th>...</th>\n",
       "      <td>...</td>\n",
       "      <td>...</td>\n",
       "      <td>...</td>\n",
       "      <td>...</td>\n",
       "      <td>...</td>\n",
       "      <td>...</td>\n",
       "      <td>...</td>\n",
       "    </tr>\n",
       "    <tr>\n",
       "      <th>31195</th>\n",
       "      <td>224.0</td>\n",
       "      <td>2017.0</td>\n",
       "      <td>11.0</td>\n",
       "      <td>10.1</td>\n",
       "      <td>700</td>\n",
       "      <td>overstory</td>\n",
       "      <td>ld</td>\n",
       "    </tr>\n",
       "    <tr>\n",
       "      <th>31196</th>\n",
       "      <td>224.0</td>\n",
       "      <td>2017.0</td>\n",
       "      <td>11.5</td>\n",
       "      <td>11.2</td>\n",
       "      <td>700</td>\n",
       "      <td>overstory</td>\n",
       "      <td>ld</td>\n",
       "    </tr>\n",
       "    <tr>\n",
       "      <th>31197</th>\n",
       "      <td>224.0</td>\n",
       "      <td>2017.0</td>\n",
       "      <td>12.0</td>\n",
       "      <td>11.0</td>\n",
       "      <td>700</td>\n",
       "      <td>overstory</td>\n",
       "      <td>ld</td>\n",
       "    </tr>\n",
       "    <tr>\n",
       "      <th>31198</th>\n",
       "      <td>224.0</td>\n",
       "      <td>2017.0</td>\n",
       "      <td>12.5</td>\n",
       "      <td>11.8</td>\n",
       "      <td>700</td>\n",
       "      <td>overstory</td>\n",
       "      <td>ld</td>\n",
       "    </tr>\n",
       "    <tr>\n",
       "      <th>31199</th>\n",
       "      <td>224.0</td>\n",
       "      <td>2017.0</td>\n",
       "      <td>13.0</td>\n",
       "      <td>12.2</td>\n",
       "      <td>700</td>\n",
       "      <td>overstory</td>\n",
       "      <td>ld</td>\n",
       "    </tr>\n",
       "  </tbody>\n",
       "</table>\n",
       "<p>31200 rows × 7 columns</p>\n",
       "</div>"
      ],
      "text/plain": [
       "         doy    year  hour  Temp  sensorZ  sensorLoc site\n",
       "0      181.0  2016.0  18.5  14.8      700  overstory   hd\n",
       "1      181.0  2016.0  19.0  14.3      700  overstory   hd\n",
       "2      181.0  2016.0  19.5  13.4      700  overstory   hd\n",
       "3      181.0  2016.0  20.0  12.3      700  overstory   hd\n",
       "4      181.0  2016.0  20.5  11.6      700  overstory   hd\n",
       "...      ...     ...   ...   ...      ...        ...  ...\n",
       "31195  224.0  2017.0  11.0  10.1      700  overstory   ld\n",
       "31196  224.0  2017.0  11.5  11.2      700  overstory   ld\n",
       "31197  224.0  2017.0  12.0  11.0      700  overstory   ld\n",
       "31198  224.0  2017.0  12.5  11.8      700  overstory   ld\n",
       "31199  224.0  2017.0  13.0  12.2      700  overstory   ld\n",
       "\n",
       "[31200 rows x 7 columns]"
      ]
     },
     "execution_count": 12,
     "metadata": {},
     "output_type": "execute_result"
    }
   ],
   "source": [
    "df = pd.read_csv('Air_Temp.xls')\n",
    "df"
   ]
  },
  {
   "cell_type": "code",
   "execution_count": 20,
   "id": "e73e63bb-0985-4bb8-8442-290799d27922",
   "metadata": {},
   "outputs": [],
   "source": [
    "Sorted_df = df.sort_values(by=\"year\", ascending=True)"
   ]
  },
  {
   "cell_type": "code",
   "execution_count": 14,
   "id": "70480573-aaff-4cae-8ea9-2201beeea02e",
   "metadata": {},
   "outputs": [],
   "source": [
    "x = Sorted_df['year']"
   ]
  },
  {
   "cell_type": "code",
   "execution_count": 15,
   "id": "11b92c8b-8204-4afe-ac97-9c5b4e4210b9",
   "metadata": {},
   "outputs": [
    {
     "data": {
      "text/plain": [
       "28       2016.0\n",
       "27       2016.0\n",
       "26       2016.0\n",
       "25       2016.0\n",
       "24       2016.0\n",
       "          ...  \n",
       "8894     2017.0\n",
       "8893     2017.0\n",
       "8892     2017.0\n",
       "8891     2017.0\n",
       "15499       NaN\n",
       "Name: year, Length: 31200, dtype: float64"
      ]
     },
     "execution_count": 15,
     "metadata": {},
     "output_type": "execute_result"
    }
   ],
   "source": [
    "x"
   ]
  },
  {
   "cell_type": "code",
   "execution_count": 16,
   "id": "5c595577-58ab-497f-bed2-0b932dc6dca6",
   "metadata": {},
   "outputs": [
    {
     "data": {
      "text/plain": [
       "28        6.3\n",
       "27        6.3\n",
       "26        5.9\n",
       "25        6.0\n",
       "24        6.0\n",
       "         ... \n",
       "8894    -30.0\n",
       "8893    -29.6\n",
       "8892    -29.2\n",
       "8891    -29.2\n",
       "15499     NaN\n",
       "Name: Temp, Length: 31200, dtype: float64"
      ]
     },
     "execution_count": 16,
     "metadata": {},
     "output_type": "execute_result"
    }
   ],
   "source": [
    "y = Sorted_df['Temp'].round(5)\n",
    "y"
   ]
  },
  {
   "cell_type": "code",
   "execution_count": 22,
   "id": "e50e4c0f-fe3b-4d52-b99d-fba393256f27",
   "metadata": {},
   "outputs": [
    {
     "name": "stdout",
     "output_type": "stream",
     "text": [
      "Using matplotlib backend: module://matplotlib_inline.backend_inline\n",
      "%pylab is deprecated, use %matplotlib inline and import the required libraries.\n",
      "Populating the interactive namespace from numpy and matplotlib\n"
     ]
    },
    {
     "data": {
      "image/png": "[encoded data removed]",
      "text/plain": [
       "<Figure size 640x480 with 1 Axes>"
      ]
     },
     "metadata": {},
     "output_type": "display_data"
    }
   ],
   "source": [
    "%pylab\n",
    "import mplcursors\n",
    "plt.plot(x,y)\n",
    "plt.xlabel(\"Year\")\n",
    "plt.ylabel(\"Temp\")\n",
    "\n",
    "mplcursors.cursor(hover=True)\n",
    "plt.show()"
   ]
  },
  {
   "cell_type": "code",
   "execution_count": 18,
   "id": "b7b69029-3525-4869-9c1d-46caf2cd1b9f",
   "metadata": {},
   "outputs": [],
   "source": [
    "import mplcursors"
   ]
  },
  {
   "cell_type": "code",
   "execution_count": null,
   "id": "5ec55705-282d-4fac-a3bc-7fa3a52846e3",
   "metadata": {},
   "outputs": [],
   "source": []
  },
  {
   "cell_type": "code",
   "execution_count": null,
   "id": "e3c38488-abd9-4c28-aed6-ea16f684c06a",
   "metadata": {},
   "outputs": [],
   "source": []
  }
 ],
 "metadata": {
  "kernelspec": {
   "display_name": "Python 3 (ipykernel)",
   "language": "python",
   "name": "python3"
  },
  "language_info": {
   "codemirror_mode": {
    "name": "ipython",
    "version": 3
   },
   "file_extension": ".py",
   "mimetype": "text/x-python",
   "name": "python",
   "nbconvert_exporter": "python",
   "pygments_lexer": "ipython3",
   "version": "3.14.0"
  }
 },
 "nbformat": 4,
 "nbformat_minor": 5
}
