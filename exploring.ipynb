{
 "cells": [
  {
   "cell_type": "code",
   "execution_count": 1,
   "id": "89886d94-2485-4bc3-a11d-2bf5aa402123",
   "metadata": {},
   "outputs": [],
   "source": [
    "import matplotlib.pyplot as plt\n",
    "import numpy as np"
   ]
  },
  {
   "cell_type": "code",
   "execution_count": 2,
   "id": "3b69ff95-7077-42ea-b4ac-9c737177b25d",
   "metadata": {},
   "outputs": [],
   "source": [
    "import pandas as pd"
   ]
  },
  {
   "cell_type": "code",
   "execution_count": 3,
   "id": "a4b3012d-83d4-4568-9166-ae390c47e8d4",
   "metadata": {},
   "outputs": [
    {
     "data": {
      "text/html": [
       "<div>\n",
       "<style scoped>\n",
       "    .dataframe tbody tr th:only-of-type {\n",
       "        vertical-align: middle;\n",
       "    }\n",
       "\n",
       "    .dataframe tbody tr th {\n",
       "        vertical-align: top;\n",
       "    }\n",
       "\n",
       "    .dataframe thead th {\n",
       "        text-align: right;\n",
       "    }\n",
       "</style>\n",
       "<table border=\"1\" class=\"dataframe\">\n",
       "  <thead>\n",
       "    <tr style=\"text-align: right;\">\n",
       "      <th></th>\n",
       "      <th>doy</th>\n",
       "      <th>year</th>\n",
       "      <th>hour</th>\n",
       "      <th>Temp</th>\n",
       "      <th>sensorZ</th>\n",
       "      <th>sensorLoc</th>\n",
       "      <th>site</th>\n",
       "    </tr>\n",
       "  </thead>\n",
       "  <tbody>\n",
       "    <tr>\n",
       "      <th>0</th>\n",
       "      <td>181.0</td>\n",
       "      <td>2016.0</td>\n",
       "      <td>18.5</td>\n",
       "      <td>14.8</td>\n",
       "      <td>700</td>\n",
       "      <td>overstory</td>\n",
       "      <td>hd</td>\n",
       "    </tr>\n",
       "    <tr>\n",
       "      <th>1</th>\n",
       "      <td>181.0</td>\n",
       "      <td>2016.0</td>\n",
       "      <td>19.0</td>\n",
       "      <td>14.3</td>\n",
       "      <td>700</td>\n",
       "      <td>overstory</td>\n",
       "      <td>hd</td>\n",
       "    </tr>\n",
       "    <tr>\n",
       "      <th>2</th>\n",
       "      <td>181.0</td>\n",
       "      <td>2016.0</td>\n",
       "      <td>19.5</td>\n",
       "      <td>13.4</td>\n",
       "      <td>700</td>\n",
       "      <td>overstory</td>\n",
       "      <td>hd</td>\n",
       "    </tr>\n",
       "    <tr>\n",
       "      <th>3</th>\n",
       "      <td>181.0</td>\n",
       "      <td>2016.0</td>\n",
       "      <td>20.0</td>\n",
       "      <td>12.3</td>\n",
       "      <td>700</td>\n",
       "      <td>overstory</td>\n",
       "      <td>hd</td>\n",
       "    </tr>\n",
       "    <tr>\n",
       "      <th>4</th>\n",
       "      <td>181.0</td>\n",
       "      <td>2016.0</td>\n",
       "      <td>20.5</td>\n",
       "      <td>11.6</td>\n",
       "      <td>700</td>\n",
       "      <td>overstory</td>\n",
       "      <td>hd</td>\n",
       "    </tr>\n",
       "    <tr>\n",
       "      <th>...</th>\n",
       "      <td>...</td>\n",
       "      <td>...</td>\n",
       "      <td>...</td>\n",
       "      <td>...</td>\n",
       "      <td>...</td>\n",
       "      <td>...</td>\n",
       "      <td>...</td>\n",
       "    </tr>\n",
       "    <tr>\n",
       "      <th>19663</th>\n",
       "      <td>225.0</td>\n",
       "      <td>2017.0</td>\n",
       "      <td>10.5</td>\n",
       "      <td>13.3</td>\n",
       "      <td>700</td>\n",
       "      <td>overstory</td>\n",
       "      <td>hd</td>\n",
       "    </tr>\n",
       "    <tr>\n",
       "      <th>19664</th>\n",
       "      <td>225.0</td>\n",
       "      <td>2017.0</td>\n",
       "      <td>11.0</td>\n",
       "      <td>13.9</td>\n",
       "      <td>700</td>\n",
       "      <td>overstory</td>\n",
       "      <td>hd</td>\n",
       "    </tr>\n",
       "    <tr>\n",
       "      <th>19665</th>\n",
       "      <td>225.0</td>\n",
       "      <td>2017.0</td>\n",
       "      <td>11.5</td>\n",
       "      <td>14.9</td>\n",
       "      <td>700</td>\n",
       "      <td>overstory</td>\n",
       "      <td>hd</td>\n",
       "    </tr>\n",
       "    <tr>\n",
       "      <th>19666</th>\n",
       "      <td>225.0</td>\n",
       "      <td>2017.0</td>\n",
       "      <td>12.0</td>\n",
       "      <td>15.1</td>\n",
       "      <td>700</td>\n",
       "      <td>overstory</td>\n",
       "      <td>hd</td>\n",
       "    </tr>\n",
       "    <tr>\n",
       "      <th>19667</th>\n",
       "      <td>NaN</td>\n",
       "      <td>NaN</td>\n",
       "      <td>NaN</td>\n",
       "      <td>NaN</td>\n",
       "      <td>700</td>\n",
       "      <td>overstory</td>\n",
       "      <td>hd</td>\n",
       "    </tr>\n",
       "  </tbody>\n",
       "</table>\n",
       "<p>19668 rows × 7 columns</p>\n",
       "</div>"
      ],
      "text/plain": [
       "         doy    year  hour  Temp  sensorZ  sensorLoc site\n",
       "0      181.0  2016.0  18.5  14.8      700  overstory   hd\n",
       "1      181.0  2016.0  19.0  14.3      700  overstory   hd\n",
       "2      181.0  2016.0  19.5  13.4      700  overstory   hd\n",
       "3      181.0  2016.0  20.0  12.3      700  overstory   hd\n",
       "4      181.0  2016.0  20.5  11.6      700  overstory   hd\n",
       "...      ...     ...   ...   ...      ...        ...  ...\n",
       "19663  225.0  2017.0  10.5  13.3      700  overstory   hd\n",
       "19664  225.0  2017.0  11.0  13.9      700  overstory   hd\n",
       "19665  225.0  2017.0  11.5  14.9      700  overstory   hd\n",
       "19666  225.0  2017.0  12.0  15.1      700  overstory   hd\n",
       "19667    NaN     NaN   NaN   NaN      700  overstory   hd\n",
       "\n",
       "[19668 rows x 7 columns]"
      ]
     },
     "execution_count": 3,
     "metadata": {},
     "output_type": "execute_result"
    }
   ],
   "source": [
    "df = pd.read_csv('air_temp_hd.csv')\n",
    "df"
   ]
  },
  {
   "cell_type": "code",
   "execution_count": null,
   "id": "e73e63bb-0985-4bb8-8442-290799d27922",
   "metadata": {},
   "outputs": [],
   "source": []
  },
  {
   "cell_type": "code",
   "execution_count": 4,
   "id": "70480573-aaff-4cae-8ea9-2201beeea02e",
   "metadata": {},
   "outputs": [],
   "source": [
    "x = df['year']"
   ]
  },
  {
   "cell_type": "code",
   "execution_count": 5,
   "id": "11b92c8b-8204-4afe-ac97-9c5b4e4210b9",
   "metadata": {},
   "outputs": [
    {
     "data": {
      "text/plain": [
       "0        2016.0\n",
       "1        2016.0\n",
       "2        2016.0\n",
       "3        2016.0\n",
       "4        2016.0\n",
       "          ...  \n",
       "19663    2017.0\n",
       "19664    2017.0\n",
       "19665    2017.0\n",
       "19666    2017.0\n",
       "19667       NaN\n",
       "Name: year, Length: 19668, dtype: float64"
      ]
     },
     "execution_count": 5,
     "metadata": {},
     "output_type": "execute_result"
    }
   ],
   "source": [
    "x"
   ]
  },
  {
   "cell_type": "code",
   "execution_count": 6,
   "id": "5c595577-58ab-497f-bed2-0b932dc6dca6",
   "metadata": {},
   "outputs": [
    {
     "data": {
      "text/plain": [
       "0        14.8\n",
       "1        14.3\n",
       "2        13.4\n",
       "3        12.3\n",
       "4        11.6\n",
       "         ... \n",
       "19663    13.3\n",
       "19664    13.9\n",
       "19665    14.9\n",
       "19666    15.1\n",
       "19667     NaN\n",
       "Name: Temp, Length: 19668, dtype: float64"
      ]
     },
     "execution_count": 6,
     "metadata": {},
     "output_type": "execute_result"
    }
   ],
   "source": [
    "y = df['Temp'].round(5)\n",
    "y"
   ]
  },
  {
   "cell_type": "code",
   "execution_count": 7,
   "id": "e50e4c0f-fe3b-4d52-b99d-fba393256f27",
   "metadata": {},
   "outputs": [
    {
     "name": "stdout",
     "output_type": "stream",
     "text": [
      "Using matplotlib backend: module://matplotlib_inline.backend_inline\n",
      "%pylab is deprecated, use %matplotlib inline and import the required libraries.\n",
      "Populating the interactive namespace from numpy and matplotlib\n"
     ]
    },
    {
     "ename": "ModuleNotFoundError",
     "evalue": "No module named 'mplcursors'",
     "output_type": "error",
     "traceback": [
      "\u001b[31m---------------------------------------------------------------------------\u001b[39m",
      "\u001b[31mModuleNotFoundError\u001b[39m                       Traceback (most recent call last)",
      "\u001b[36mCell\u001b[39m\u001b[36m \u001b[39m\u001b[32mIn[7]\u001b[39m\u001b[32m, line 2\u001b[39m\n\u001b[32m      1\u001b[39m get_ipython().run_line_magic(\u001b[33m'\u001b[39m\u001b[33mpylab\u001b[39m\u001b[33m'\u001b[39m, \u001b[33m'\u001b[39m\u001b[33m'\u001b[39m)\n\u001b[32m----> \u001b[39m\u001b[32m2\u001b[39m \u001b[38;5;28;01mimport\u001b[39;00m\u001b[38;5;250m \u001b[39m\u001b[34;01mmplcursors\u001b[39;00m\n\u001b[32m      3\u001b[39m plt.plot(x,y)\n\u001b[32m      4\u001b[39m plt.xlabel(\u001b[33m\"\u001b[39m\u001b[33mYear\u001b[39m\u001b[33m\"\u001b[39m)\n",
      "\u001b[31mModuleNotFoundError\u001b[39m: No module named 'mplcursors'"
     ]
    }
   ],
   "source": [
    "%pylab\n",
    "import mplcursors\n",
    "plt.plot(x,y)\n",
    "plt.xlabel(\"Year\")\n",
    "plt.ylabel(\"Temp\")\n",
    "\n",
    "mplcursors.cursor(hover=True)\n",
    "plt.show()"
   ]
  },
  {
   "cell_type": "code",
   "execution_count": null,
   "id": "b7b69029-3525-4869-9c1d-46caf2cd1b9f",
   "metadata": {},
   "outputs": [],
   "source": [
    "import mplcursors"
   ]
  },
  {
   "cell_type": "code",
   "execution_count": null,
   "id": "5ec55705-282d-4fac-a3bc-7fa3a52846e3",
   "metadata": {},
   "outputs": [],
   "source": []
  },
  {
   "cell_type": "code",
   "execution_count": null,
   "id": "e3c38488-abd9-4c28-aed6-ea16f684c06a",
   "metadata": {},
   "outputs": [],
   "source": []
  }
 ],
 "metadata": {
  "kernelspec": {
   "display_name": "Python 3",
   "language": "python",
   "name": "python3"
  },
  "language_info": {
   "codemirror_mode": {
    "name": "ipython",
    "version": 3
   },
   "file_extension": ".py",
   "mimetype": "text/x-python",
   "name": "python",
   "nbconvert_exporter": "python",
   "pygments_lexer": "ipython3",
   "version": "3.12.1"
  }
 },
 "nbformat": 4,
 "nbformat_minor": 5
}
